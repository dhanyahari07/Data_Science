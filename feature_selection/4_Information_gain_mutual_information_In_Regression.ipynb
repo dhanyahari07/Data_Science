{
  "nbformat": 4,
  "nbformat_minor": 0,
  "metadata": {
    "kernelspec": {
      "display_name": "Python 3",
      "language": "python",
      "name": "python3"
    },
    "language_info": {
      "codemirror_mode": {
        "name": "ipython",
        "version": 3
      },
      "file_extension": ".py",
      "mimetype": "text/x-python",
      "name": "python",
      "nbconvert_exporter": "python",
      "pygments_lexer": "ipython3",
      "version": "3.7.7"
    },
    "colab": {
      "name": "4-Information gain - mutual information In Regression.ipynb",
      "provenance": []
    }
  },
  "cells": [
    {
      "cell_type": "markdown",
      "metadata": {
        "id": "PtFiXYK-1ZhX"
      },
      "source": [
        "## Feature Selection-Information gain - mutual information In Regression Problem Statements"
      ]
    },
    {
      "cell_type": "markdown",
      "metadata": {
        "id": "HHwX8Nkz1Zhb"
      },
      "source": [
        "#### Mutual Information \n",
        "Estimate mutual information for a continuous target variable.\n",
        "\n",
        "Mutual information (MI) between two random variables is a non-negative value, which measures the dependency between the variables. It is equal to zero if and only if two random variables are independent, and higher values mean higher dependency.\n",
        "\n",
        "The function relies on nonparametric methods based on entropy estimation from k-nearest neighbors distances \n",
        "\n",
        "Mutual information is calculated between two variables and measures the reduction in uncertainty for one variable given a known value of the other variable.\n",
        "\n",
        "Inshort\n",
        "\n",
        "A quantity called mutual information measures the amount of information one can obtain from one random variable given another.\n",
        "\n",
        "The mutual information between two random variables X and Y can be stated formally as follows:\n",
        "\n",
        "<b>I(X ; Y) = H(X) – H(X | Y)<b>\n",
        "Where I(X ; Y) is the mutual information for X and Y, H(X) is the entropy for X and H(X | Y) is the conditional entropy for X given Y. The result has the units of bits."
      ]
    },
    {
      "cell_type": "markdown",
      "metadata": {
        "id": "jGDpjUdh1Zho"
      },
      "source": [
        "#### Youtube Videos\n",
        "\n",
        "Entropy: https://www.youtube.com/watch?v=1IQOtJ4NI_0\n",
        "        \n",
        "Information Gain: https://www.youtube.com/watch?v=FuTRucXB9rA\n",
        "        \n",
        "Gini Impurity: https://www.youtube.com/watch?v=5aIFgrrTqOw\n",
        "\n",
        "Statistical test: https://www.youtube.com/watch?v=4-rxTA_5_xA\n",
        "\n",
        "https://www.youtube.com/watch?v=YrhlQB3mQFI"
      ]
    },
    {
      "cell_type": "code",
      "metadata": {
        "id": "zAyX0qZy1Zhp"
      },
      "source": [
        "#https://www.kaggle.com/c/house-prices-advanced-regression-techniques/data\n",
        "import pandas as pd\n",
        "housing_df=pd.read_csv('housing_data.csv')"
      ],
      "execution_count": null,
      "outputs": []
    },
    {
      "cell_type": "code",
      "metadata": {
        "id": "38ZvlHwN1Zhq"
      },
      "source": [
        ""
      ],
      "execution_count": null,
      "outputs": []
    },
    {
      "cell_type": "code",
      "metadata": {
        "id": "X1nCT1a21Zhr"
      },
      "source": [
        ""
      ],
      "execution_count": null,
      "outputs": []
    },
    {
      "cell_type": "code",
      "metadata": {
        "id": "vBXdrdcH1Zhs"
      },
      "source": [
        ""
      ],
      "execution_count": null,
      "outputs": []
    },
    {
      "cell_type": "code",
      "metadata": {
        "id": "pYK3MIsi1Zht"
      },
      "source": [
        ""
      ],
      "execution_count": null,
      "outputs": []
    },
    {
      "cell_type": "code",
      "metadata": {
        "id": "FQFafWzn1Zhu"
      },
      "source": [
        ""
      ],
      "execution_count": null,
      "outputs": []
    },
    {
      "cell_type": "code",
      "metadata": {
        "id": "BUJ5q3W51Zhv"
      },
      "source": [
        ""
      ],
      "execution_count": null,
      "outputs": []
    },
    {
      "cell_type": "code",
      "metadata": {
        "id": "VEsL0l2S1Zhv"
      },
      "source": [
        ""
      ],
      "execution_count": null,
      "outputs": []
    },
    {
      "cell_type": "code",
      "metadata": {
        "id": "6c1KYcHK1Zhw"
      },
      "source": [
        ""
      ],
      "execution_count": null,
      "outputs": []
    },
    {
      "cell_type": "code",
      "metadata": {
        "id": "KSO4m11a1Zhw"
      },
      "source": [
        ""
      ],
      "execution_count": null,
      "outputs": []
    },
    {
      "cell_type": "code",
      "metadata": {
        "id": "NEWkFUNZ1Zhx"
      },
      "source": [
        ""
      ],
      "execution_count": null,
      "outputs": []
    },
    {
      "cell_type": "code",
      "metadata": {
        "id": "a3C3ENwo1Zhx"
      },
      "source": [
        ""
      ],
      "execution_count": null,
      "outputs": []
    },
    {
      "cell_type": "code",
      "metadata": {
        "id": "4TdO3POC1Zhx"
      },
      "source": [
        ""
      ],
      "execution_count": null,
      "outputs": []
    },
    {
      "cell_type": "code",
      "metadata": {
        "id": "vkdmpCkQ1Zhy"
      },
      "source": [
        ""
      ],
      "execution_count": null,
      "outputs": []
    },
    {
      "cell_type": "code",
      "metadata": {
        "id": "uErmhqaO1Zhy"
      },
      "source": [
        ""
      ],
      "execution_count": null,
      "outputs": []
    },
    {
      "cell_type": "code",
      "metadata": {
        "id": "rDfvX4sm1Zhy"
      },
      "source": [
        ""
      ],
      "execution_count": null,
      "outputs": []
    },
    {
      "cell_type": "code",
      "metadata": {
        "id": "dpFAXTTd1Zhz"
      },
      "source": [
        ""
      ],
      "execution_count": null,
      "outputs": []
    },
    {
      "cell_type": "code",
      "metadata": {
        "id": "ByWydRIJ1Zhz"
      },
      "source": [
        "\n"
      ],
      "execution_count": null,
      "outputs": []
    },
    {
      "cell_type": "code",
      "metadata": {
        "id": "o1NEgCOI1Zhz"
      },
      "source": [
        ""
      ],
      "execution_count": null,
      "outputs": []
    },
    {
      "cell_type": "code",
      "metadata": {
        "id": "ClA3vqsz1Zh0"
      },
      "source": [
        ""
      ],
      "execution_count": null,
      "outputs": []
    },
    {
      "cell_type": "markdown",
      "metadata": {
        "id": "ITc3hoAK1Zh0"
      },
      "source": [
        "#### Difference Between Information Gain And Mutual Information\n",
        "I(X ; Y) = H(X) – H(X | Y)\n",
        "and\n",
        "IG(S, a) = H(S) – H(S | a)\n",
        "\n",
        "\n",
        "As such, mutual information is sometimes used as a synonym for \n",
        "information gain. Technically, they calculate the same quantity\n",
        "if applied to the same data."
      ]
    },
    {
      "cell_type": "code",
      "metadata": {
        "id": "Q4gAUM2-1Zh0"
      },
      "source": [
        ""
      ],
      "execution_count": null,
      "outputs": []
    }
  ]
}