{
  "nbformat": 4,
  "nbformat_minor": 0,
  "metadata": {
    "kernelspec": {
      "display_name": "Python 3",
      "language": "python",
      "name": "python3"
    },
    "language_info": {
      "codemirror_mode": {
        "name": "ipython",
        "version": 3
      },
      "file_extension": ".py",
      "mimetype": "text/x-python",
      "name": "python",
      "nbconvert_exporter": "python",
      "pygments_lexer": "ipython3",
      "version": "3.7.9"
    },
    "colab": {
      "name": "1. Feature Selection- Dropping Constant Features.ipynb",
      "provenance": []
    }
  },
  "cells": [
    {
      "cell_type": "markdown",
      "metadata": {
        "id": "j0NgmEnTY48o"
      },
      "source": [
        "### Feature Selection- Dropping constant features\n",
        "In this step we will be removing the features which have constant features which are actually not important\n",
        "for solving the problem statement"
      ]
    },
    {
      "cell_type": "code",
      "metadata": {
        "id": "cmCSNuodY48u"
      },
      "source": [
        "# Import pandas to create DataFrame \n",
        "import pandas as pd \n",
        "  \n",
        "# Make DataFrame of the given data \n",
        "data = pd.DataFrame({\"A\":[1,2,4,1,2,4], \n",
        "                    \"B\":[4,5,6,7,8,9], \n",
        "                    \"C\":[0,0,0,0,0,0],\n",
        "                    \"D\":[1,1,1,1,1,1]}) "
      ],
      "execution_count": null,
      "outputs": []
    },
    {
      "cell_type": "code",
      "metadata": {
        "id": "l_9bLLz4Y48w"
      },
      "source": [
        ""
      ],
      "execution_count": null,
      "outputs": []
    },
    {
      "cell_type": "markdown",
      "metadata": {
        "id": "ZRabr_0XY48x"
      },
      "source": [
        "##### Variance Threshold\n",
        "Feature selector that removes all low-variance features.\n",
        "\n",
        "This feature selection algorithm looks only at the features (X), not the desired outputs (y), and can thus be used for unsupervised learning."
      ]
    },
    {
      "cell_type": "code",
      "metadata": {
        "id": "6pbJDdmBY48y"
      },
      "source": [
        ""
      ],
      "execution_count": null,
      "outputs": []
    },
    {
      "cell_type": "code",
      "metadata": {
        "id": "lCtVcaLgY48z"
      },
      "source": [
        ""
      ],
      "execution_count": null,
      "outputs": []
    },
    {
      "cell_type": "code",
      "metadata": {
        "id": "7ai9WPRpY481"
      },
      "source": [
        ""
      ],
      "execution_count": null,
      "outputs": []
    },
    {
      "cell_type": "code",
      "metadata": {
        "id": "ugcqDFafY483"
      },
      "source": [
        "\n",
        "\n"
      ],
      "execution_count": null,
      "outputs": []
    },
    {
      "cell_type": "code",
      "metadata": {
        "id": "LGXfZQ4lY485"
      },
      "source": [
        ""
      ],
      "execution_count": null,
      "outputs": []
    },
    {
      "cell_type": "code",
      "metadata": {
        "id": "c3TmNGAkY487"
      },
      "source": [
        ""
      ],
      "execution_count": null,
      "outputs": []
    },
    {
      "cell_type": "markdown",
      "metadata": {
        "id": "p_3VCQHcY488"
      },
      "source": [
        "#### Lets practise on bigger dataset\n",
        "https://www.kaggle.com/c/santander-customer-satisfaction/data?select=train.csv"
      ]
    },
    {
      "cell_type": "code",
      "metadata": {
        "id": "GJXgBIGDY488"
      },
      "source": [
        "import pandas as pd\n",
        "from sklearn.feature_selection import VarianceThreshold"
      ],
      "execution_count": null,
      "outputs": []
    },
    {
      "cell_type": "code",
      "metadata": {
        "id": "_ashLrTnY489"
      },
      "source": [
        "df=pd.read_csv('https://raw.githubusercontent.com/dhanyahari07/Data_Science/master/Datasets/santander.csv',nrows=10000)"
      ],
      "execution_count": null,
      "outputs": []
    },
    {
      "cell_type": "code",
      "metadata": {
        "id": "7EqHg3Uma-eU"
      },
      "source": [
        ""
      ],
      "execution_count": null,
      "outputs": []
    },
    {
      "cell_type": "code",
      "metadata": {
        "id": "-ARSrjtUY48_"
      },
      "source": [
        ""
      ],
      "execution_count": null,
      "outputs": []
    },
    {
      "cell_type": "code",
      "metadata": {
        "id": "9bpraXFHY49A"
      },
      "source": [
        ""
      ],
      "execution_count": null,
      "outputs": []
    },
    {
      "cell_type": "code",
      "metadata": {
        "id": "yZIWPWO1Y49B"
      },
      "source": [
        ""
      ],
      "execution_count": null,
      "outputs": []
    },
    {
      "cell_type": "code",
      "metadata": {
        "id": "bjmEC45LY49B"
      },
      "source": [
        "\n",
        "\n"
      ],
      "execution_count": null,
      "outputs": []
    },
    {
      "cell_type": "markdown",
      "metadata": {
        "id": "ZcOfUFgNY49B"
      },
      "source": [
        "#### Lets apply the variance threshold"
      ]
    },
    {
      "cell_type": "code",
      "metadata": {
        "id": "cHPYvT7jY49C"
      },
      "source": [
        ""
      ],
      "execution_count": null,
      "outputs": []
    },
    {
      "cell_type": "code",
      "metadata": {
        "id": "YqEdsYpRY49C"
      },
      "source": [
        ""
      ],
      "execution_count": null,
      "outputs": []
    },
    {
      "cell_type": "code",
      "metadata": {
        "id": "u3fr24iRY49D"
      },
      "source": [
        "### Finding non constant features\n"
      ],
      "execution_count": null,
      "outputs": []
    },
    {
      "cell_type": "code",
      "metadata": {
        "id": "-0d4XF3NY49D"
      },
      "source": [
        "# Lets Find non-constant features \n"
      ],
      "execution_count": null,
      "outputs": []
    },
    {
      "cell_type": "code",
      "metadata": {
        "id": "BVINgd6lY49E"
      },
      "source": [
        ""
      ],
      "execution_count": null,
      "outputs": []
    },
    {
      "cell_type": "code",
      "metadata": {
        "id": "rhas7Wf8Y49F"
      },
      "source": [
        ""
      ],
      "execution_count": null,
      "outputs": []
    },
    {
      "cell_type": "code",
      "metadata": {
        "id": "3MNtIX3AY49G"
      },
      "source": [
        ""
      ],
      "execution_count": null,
      "outputs": []
    },
    {
      "cell_type": "code",
      "metadata": {
        "id": "vcEu6_DyY49G"
      },
      "source": [
        ""
      ],
      "execution_count": null,
      "outputs": []
    }
  ]
}