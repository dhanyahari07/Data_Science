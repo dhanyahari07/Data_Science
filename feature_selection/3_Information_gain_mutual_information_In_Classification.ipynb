{
  "nbformat": 4,
  "nbformat_minor": 0,
  "metadata": {
    "kernelspec": {
      "display_name": "Python 3",
      "language": "python",
      "name": "python3"
    },
    "language_info": {
      "codemirror_mode": {
        "name": "ipython",
        "version": 3
      },
      "file_extension": ".py",
      "mimetype": "text/x-python",
      "name": "python",
      "nbconvert_exporter": "python",
      "pygments_lexer": "ipython3",
      "version": "3.7.7"
    },
    "colab": {
      "name": "3- Information gain - mutual information In Classification.ipynb",
      "provenance": []
    }
  },
  "cells": [
    {
      "cell_type": "markdown",
      "metadata": {
        "id": "jG02pwGWz218"
      },
      "source": [
        "## Feature Selection-Information gain - mutual information In Classification Problem Statements"
      ]
    },
    {
      "cell_type": "markdown",
      "metadata": {
        "id": "VnKz7y_Rz22A"
      },
      "source": [
        "#### Mutual Information \n",
        "\n",
        "MI Estimate mutual information for a discrete target variable.\n",
        "\n",
        "Mutual information (MI) between two random variables is a non-negative value, which measures the dependency between the variables. It is equal to zero if and only if two random variables are independent, and higher values mean higher dependency.\n",
        "\n",
        "The function relies on nonparametric methods based on entropy estimation from k-nearest neighbors distances.\n",
        "\n",
        "Inshort\n",
        "\n",
        "A quantity called mutual information measures the amount of information one can obtain from one random variable given another.\n",
        "\n",
        "The mutual information between two random variables X and Y can be stated formally as follows:\n",
        "\n",
        "<b>I(X ; Y) = H(X) – H(X | Y)<b>\n",
        "Where I(X ; Y) is the mutual information for X and Y, H(X) is the entropy for X and H(X | Y) is the conditional entropy for X given Y. The result has the units of bits."
      ]
    },
    {
      "cell_type": "markdown",
      "metadata": {
        "id": "d_E18zAez22B"
      },
      "source": [
        "#### Youtube Videos\n",
        "\n",
        "Entropy: https://www.youtube.com/watch?v=1IQOtJ4NI_0\n",
        "        \n",
        "Information Gain: https://www.youtube.com/watch?v=FuTRucXB9rA\n",
        "        \n",
        "Gini Impurity: https://www.youtube.com/watch?v=5aIFgrrTqOw\n",
        "\n",
        "Statistical test: https://www.youtube.com/watch?v=4-rxTA_5_xA"
      ]
    },
    {
      "cell_type": "code",
      "metadata": {
        "id": "ftv_vI4lz22C"
      },
      "source": [
        "import pandas as pd"
      ],
      "execution_count": null,
      "outputs": []
    },
    {
      "cell_type": "code",
      "metadata": {
        "id": "u_LcPXWzz22D"
      },
      "source": [
        "df=pd.read_csv('https://gist.githubusercontent.com/tijptjik/9408623/raw/b237fa5848349a14a14e5d4107dc7897c21951f5/wine.csv')\n",
        "df.head()"
      ],
      "execution_count": null,
      "outputs": []
    },
    {
      "cell_type": "code",
      "metadata": {
        "id": "6v50RQfIz22F"
      },
      "source": [
        ""
      ],
      "execution_count": null,
      "outputs": []
    },
    {
      "cell_type": "code",
      "metadata": {
        "id": "PI5t93QFz22G"
      },
      "source": [
        ""
      ],
      "execution_count": null,
      "outputs": []
    },
    {
      "cell_type": "code",
      "metadata": {
        "id": "JzoePP_Sz22H"
      },
      "source": [
        ""
      ],
      "execution_count": null,
      "outputs": []
    },
    {
      "cell_type": "code",
      "metadata": {
        "id": "Dj-9N5ssz22I"
      },
      "source": [
        ""
      ],
      "execution_count": null,
      "outputs": []
    },
    {
      "cell_type": "code",
      "metadata": {
        "scrolled": true,
        "id": "icFGC_naz22J"
      },
      "source": [
        ""
      ],
      "execution_count": null,
      "outputs": []
    },
    {
      "cell_type": "code",
      "metadata": {
        "id": "hgSrwp1cz22J"
      },
      "source": [
        ""
      ],
      "execution_count": null,
      "outputs": []
    },
    {
      "cell_type": "code",
      "metadata": {
        "id": "qWaMNUMpz22K"
      },
      "source": [
        ""
      ],
      "execution_count": null,
      "outputs": []
    },
    {
      "cell_type": "code",
      "metadata": {
        "id": "9pUuyud6z22L"
      },
      "source": [
        ""
      ],
      "execution_count": null,
      "outputs": []
    },
    {
      "cell_type": "code",
      "metadata": {
        "id": "TfXJBaZhz22L"
      },
      "source": [
        ""
      ],
      "execution_count": null,
      "outputs": []
    },
    {
      "cell_type": "markdown",
      "metadata": {
        "id": "N5EGCXeJz22M"
      },
      "source": [
        "#### Difference Between Information Gain And Mutual Information\n",
        "I(X ; Y) = H(X) – H(X | Y)\n",
        "and\n",
        "IG(S, a) = H(S) – H(S | a)\n",
        "\n",
        "As such, mutual information is sometimes used as a synonym for \n",
        "information gain. Technically, they calculate the same quantity\n",
        "if applied to the same data."
      ]
    },
    {
      "cell_type": "markdown",
      "metadata": {
        "id": "ZD8u3dRRz22M"
      },
      "source": [
        "## Comparion of Univariate And Mutual Information\n",
        "Comparison of F-test and mutual information\n",
        "https://scikit-learn.org/stable/auto_examples/feature_selection/plot_f_test_vs_mi.html#sphx-glr-auto-examples-feature-selection-plot-f-test-vs-mi-py"
      ]
    },
    {
      "cell_type": "code",
      "metadata": {
        "id": "P0ILASHrz22N"
      },
      "source": [
        ""
      ],
      "execution_count": null,
      "outputs": []
    }
  ]
}