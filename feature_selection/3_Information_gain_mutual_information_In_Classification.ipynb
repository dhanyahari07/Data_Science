{
  "nbformat": 4,
  "nbformat_minor": 0,
  "metadata": {
    "kernelspec": {
      "display_name": "Python 3",
      "language": "python",
      "name": "python3"
    },
    "language_info": {
      "codemirror_mode": {
        "name": "ipython",
        "version": 3
      },
      "file_extension": ".py",
      "mimetype": "text/x-python",
      "name": "python",
      "nbconvert_exporter": "python",
      "pygments_lexer": "ipython3",
      "version": "3.7.7"
    },
    "colab": {
      "name": "3- Information gain - mutual information In Classification.ipynb",
      "provenance": []
    }
  },
  "cells": [
    {
      "cell_type": "markdown",
      "metadata": {
        "id": "jG02pwGWz218"
      },
      "source": [
        "## Feature Selection-Information gain - mutual information In Classification Problem Statements"
      ]
    },
    {
      "cell_type": "markdown",
      "metadata": {
        "id": "VnKz7y_Rz22A"
      },
      "source": [
        "#### Mutual Information \n",
        "\n",
        "MI Estimate mutual information for a discrete target variable.\n",
        "\n",
        "Mutual information (MI) between two random variables is a non-negative value, which measures the dependency between the variables. It is equal to zero if and only if two random variables are independent, and higher values mean higher dependency.\n",
        "\n",
        "The function relies on nonparametric methods based on entropy estimation from k-nearest neighbors distances.\n",
        "\n",
        "Inshort\n",
        "\n",
        "A quantity called mutual information measures the amount of information one can obtain from one random variable given another.\n",
        "\n",
        "The mutual information between two random variables X and Y can be stated formally as follows:\n",
        "\n",
        "<b>I(X ; Y) = H(X) – H(X | Y)<b>\n",
        "Where I(X ; Y) is the mutual information for X and Y, H(X) is the entropy for X and H(X | Y) is the conditional entropy for X given Y. The result has the units of bits."
      ]
    },
    {
      "cell_type": "markdown",
      "metadata": {
        "id": "d_E18zAez22B"
      },
      "source": [
        "#### Youtube Videos\n",
        "\n",
        "Entropy: https://www.youtube.com/watch?v=1IQOtJ4NI_0\n",
        "        \n",
        "Information Gain: https://www.youtube.com/watch?v=FuTRucXB9rA\n",
        "        \n",
        "Gini Impurity: https://www.youtube.com/watch?v=5aIFgrrTqOw\n",
        "\n",
        "Statistical test: https://www.youtube.com/watch?v=4-rxTA_5_xA"
      ]
    },
    {
      "cell_type": "code",
      "metadata": {
        "id": "ftv_vI4lz22C"
      },
      "source": [
        "import pandas as pd"
      ],
      "execution_count": 1,
      "outputs": []
    },
    {
      "cell_type": "code",
      "metadata": {
        "id": "u_LcPXWzz22D",
        "colab": {
          "base_uri": "https://localhost:8080/",
          "height": 204
        },
        "outputId": "6c8ff150-7d9f-4572-d7d2-bf60473438eb"
      },
      "source": [
        "df=pd.read_csv('https://gist.githubusercontent.com/tijptjik/9408623/raw/b237fa5848349a14a14e5d4107dc7897c21951f5/wine.csv')\n",
        "df.head()"
      ],
      "execution_count": 2,
      "outputs": [
        {
          "output_type": "execute_result",
          "data": {
            "text/html": [
              "<div>\n",
              "<style scoped>\n",
              "    .dataframe tbody tr th:only-of-type {\n",
              "        vertical-align: middle;\n",
              "    }\n",
              "\n",
              "    .dataframe tbody tr th {\n",
              "        vertical-align: top;\n",
              "    }\n",
              "\n",
              "    .dataframe thead th {\n",
              "        text-align: right;\n",
              "    }\n",
              "</style>\n",
              "<table border=\"1\" class=\"dataframe\">\n",
              "  <thead>\n",
              "    <tr style=\"text-align: right;\">\n",
              "      <th></th>\n",
              "      <th>Wine</th>\n",
              "      <th>Alcohol</th>\n",
              "      <th>Malic.acid</th>\n",
              "      <th>Ash</th>\n",
              "      <th>Acl</th>\n",
              "      <th>Mg</th>\n",
              "      <th>Phenols</th>\n",
              "      <th>Flavanoids</th>\n",
              "      <th>Nonflavanoid.phenols</th>\n",
              "      <th>Proanth</th>\n",
              "      <th>Color.int</th>\n",
              "      <th>Hue</th>\n",
              "      <th>OD</th>\n",
              "      <th>Proline</th>\n",
              "    </tr>\n",
              "  </thead>\n",
              "  <tbody>\n",
              "    <tr>\n",
              "      <th>0</th>\n",
              "      <td>1</td>\n",
              "      <td>14.23</td>\n",
              "      <td>1.71</td>\n",
              "      <td>2.43</td>\n",
              "      <td>15.6</td>\n",
              "      <td>127</td>\n",
              "      <td>2.80</td>\n",
              "      <td>3.06</td>\n",
              "      <td>0.28</td>\n",
              "      <td>2.29</td>\n",
              "      <td>5.64</td>\n",
              "      <td>1.04</td>\n",
              "      <td>3.92</td>\n",
              "      <td>1065</td>\n",
              "    </tr>\n",
              "    <tr>\n",
              "      <th>1</th>\n",
              "      <td>1</td>\n",
              "      <td>13.20</td>\n",
              "      <td>1.78</td>\n",
              "      <td>2.14</td>\n",
              "      <td>11.2</td>\n",
              "      <td>100</td>\n",
              "      <td>2.65</td>\n",
              "      <td>2.76</td>\n",
              "      <td>0.26</td>\n",
              "      <td>1.28</td>\n",
              "      <td>4.38</td>\n",
              "      <td>1.05</td>\n",
              "      <td>3.40</td>\n",
              "      <td>1050</td>\n",
              "    </tr>\n",
              "    <tr>\n",
              "      <th>2</th>\n",
              "      <td>1</td>\n",
              "      <td>13.16</td>\n",
              "      <td>2.36</td>\n",
              "      <td>2.67</td>\n",
              "      <td>18.6</td>\n",
              "      <td>101</td>\n",
              "      <td>2.80</td>\n",
              "      <td>3.24</td>\n",
              "      <td>0.30</td>\n",
              "      <td>2.81</td>\n",
              "      <td>5.68</td>\n",
              "      <td>1.03</td>\n",
              "      <td>3.17</td>\n",
              "      <td>1185</td>\n",
              "    </tr>\n",
              "    <tr>\n",
              "      <th>3</th>\n",
              "      <td>1</td>\n",
              "      <td>14.37</td>\n",
              "      <td>1.95</td>\n",
              "      <td>2.50</td>\n",
              "      <td>16.8</td>\n",
              "      <td>113</td>\n",
              "      <td>3.85</td>\n",
              "      <td>3.49</td>\n",
              "      <td>0.24</td>\n",
              "      <td>2.18</td>\n",
              "      <td>7.80</td>\n",
              "      <td>0.86</td>\n",
              "      <td>3.45</td>\n",
              "      <td>1480</td>\n",
              "    </tr>\n",
              "    <tr>\n",
              "      <th>4</th>\n",
              "      <td>1</td>\n",
              "      <td>13.24</td>\n",
              "      <td>2.59</td>\n",
              "      <td>2.87</td>\n",
              "      <td>21.0</td>\n",
              "      <td>118</td>\n",
              "      <td>2.80</td>\n",
              "      <td>2.69</td>\n",
              "      <td>0.39</td>\n",
              "      <td>1.82</td>\n",
              "      <td>4.32</td>\n",
              "      <td>1.04</td>\n",
              "      <td>2.93</td>\n",
              "      <td>735</td>\n",
              "    </tr>\n",
              "  </tbody>\n",
              "</table>\n",
              "</div>"
            ],
            "text/plain": [
              "   Wine  Alcohol  Malic.acid   Ash  ...  Color.int   Hue    OD  Proline\n",
              "0     1    14.23        1.71  2.43  ...       5.64  1.04  3.92     1065\n",
              "1     1    13.20        1.78  2.14  ...       4.38  1.05  3.40     1050\n",
              "2     1    13.16        2.36  2.67  ...       5.68  1.03  3.17     1185\n",
              "3     1    14.37        1.95  2.50  ...       7.80  0.86  3.45     1480\n",
              "4     1    13.24        2.59  2.87  ...       4.32  1.04  2.93      735\n",
              "\n",
              "[5 rows x 14 columns]"
            ]
          },
          "metadata": {},
          "execution_count": 2
        }
      ]
    },
    {
      "cell_type": "code",
      "metadata": {
        "id": "6v50RQfIz22F",
        "colab": {
          "base_uri": "https://localhost:8080/"
        },
        "outputId": "3d1db82d-f582-4be8-dc1d-0fcb15142f22"
      },
      "source": [
        "df['Wine'].value_counts()"
      ],
      "execution_count": 3,
      "outputs": [
        {
          "output_type": "execute_result",
          "data": {
            "text/plain": [
              "2    71\n",
              "1    59\n",
              "3    48\n",
              "Name: Wine, dtype: int64"
            ]
          },
          "metadata": {},
          "execution_count": 3
        }
      ]
    },
    {
      "cell_type": "code",
      "metadata": {
        "id": "PI5t93QFz22G",
        "colab": {
          "base_uri": "https://localhost:8080/"
        },
        "outputId": "5a3eaaad-86d5-46d0-c746-8c33c074a67f"
      },
      "source": [
        "df.isnull().sum()"
      ],
      "execution_count": 4,
      "outputs": [
        {
          "output_type": "execute_result",
          "data": {
            "text/plain": [
              "Wine                    0\n",
              "Alcohol                 0\n",
              "Malic.acid              0\n",
              "Ash                     0\n",
              "Acl                     0\n",
              "Mg                      0\n",
              "Phenols                 0\n",
              "Flavanoids              0\n",
              "Nonflavanoid.phenols    0\n",
              "Proanth                 0\n",
              "Color.int               0\n",
              "Hue                     0\n",
              "OD                      0\n",
              "Proline                 0\n",
              "dtype: int64"
            ]
          },
          "metadata": {},
          "execution_count": 4
        }
      ]
    },
    {
      "cell_type": "code",
      "metadata": {
        "id": "JzoePP_Sz22H"
      },
      "source": [
        "X=df.drop(labels=['Wine'], axis=1)\n",
        "y=df['Wine']"
      ],
      "execution_count": 6,
      "outputs": []
    },
    {
      "cell_type": "code",
      "metadata": {
        "id": "Dj-9N5ssz22I"
      },
      "source": [
        "from sklearn.model_selection import train_test_split\n",
        "\n",
        "X_train,X_test,y_train,y_test=train_test_split(X,y,test_size=0.3,random_state=0)"
      ],
      "execution_count": 7,
      "outputs": []
    },
    {
      "cell_type": "code",
      "metadata": {
        "colab": {
          "base_uri": "https://localhost:8080/",
          "height": 204
        },
        "id": "PKPY8iI606S_",
        "outputId": "f151e906-dea9-42f3-ffa8-64b28ea1a51f"
      },
      "source": [
        "X_train.head()"
      ],
      "execution_count": 9,
      "outputs": [
        {
          "output_type": "execute_result",
          "data": {
            "text/html": [
              "<div>\n",
              "<style scoped>\n",
              "    .dataframe tbody tr th:only-of-type {\n",
              "        vertical-align: middle;\n",
              "    }\n",
              "\n",
              "    .dataframe tbody tr th {\n",
              "        vertical-align: top;\n",
              "    }\n",
              "\n",
              "    .dataframe thead th {\n",
              "        text-align: right;\n",
              "    }\n",
              "</style>\n",
              "<table border=\"1\" class=\"dataframe\">\n",
              "  <thead>\n",
              "    <tr style=\"text-align: right;\">\n",
              "      <th></th>\n",
              "      <th>Alcohol</th>\n",
              "      <th>Malic.acid</th>\n",
              "      <th>Ash</th>\n",
              "      <th>Acl</th>\n",
              "      <th>Mg</th>\n",
              "      <th>Phenols</th>\n",
              "      <th>Flavanoids</th>\n",
              "      <th>Nonflavanoid.phenols</th>\n",
              "      <th>Proanth</th>\n",
              "      <th>Color.int</th>\n",
              "      <th>Hue</th>\n",
              "      <th>OD</th>\n",
              "      <th>Proline</th>\n",
              "    </tr>\n",
              "  </thead>\n",
              "  <tbody>\n",
              "    <tr>\n",
              "      <th>22</th>\n",
              "      <td>13.71</td>\n",
              "      <td>1.86</td>\n",
              "      <td>2.36</td>\n",
              "      <td>16.6</td>\n",
              "      <td>101</td>\n",
              "      <td>2.61</td>\n",
              "      <td>2.88</td>\n",
              "      <td>0.27</td>\n",
              "      <td>1.69</td>\n",
              "      <td>3.80</td>\n",
              "      <td>1.11</td>\n",
              "      <td>4.00</td>\n",
              "      <td>1035</td>\n",
              "    </tr>\n",
              "    <tr>\n",
              "      <th>108</th>\n",
              "      <td>12.22</td>\n",
              "      <td>1.29</td>\n",
              "      <td>1.94</td>\n",
              "      <td>19.0</td>\n",
              "      <td>92</td>\n",
              "      <td>2.36</td>\n",
              "      <td>2.04</td>\n",
              "      <td>0.39</td>\n",
              "      <td>2.08</td>\n",
              "      <td>2.70</td>\n",
              "      <td>0.86</td>\n",
              "      <td>3.02</td>\n",
              "      <td>312</td>\n",
              "    </tr>\n",
              "    <tr>\n",
              "      <th>175</th>\n",
              "      <td>13.27</td>\n",
              "      <td>4.28</td>\n",
              "      <td>2.26</td>\n",
              "      <td>20.0</td>\n",
              "      <td>120</td>\n",
              "      <td>1.59</td>\n",
              "      <td>0.69</td>\n",
              "      <td>0.43</td>\n",
              "      <td>1.35</td>\n",
              "      <td>10.20</td>\n",
              "      <td>0.59</td>\n",
              "      <td>1.56</td>\n",
              "      <td>835</td>\n",
              "    </tr>\n",
              "    <tr>\n",
              "      <th>145</th>\n",
              "      <td>13.16</td>\n",
              "      <td>3.57</td>\n",
              "      <td>2.15</td>\n",
              "      <td>21.0</td>\n",
              "      <td>102</td>\n",
              "      <td>1.50</td>\n",
              "      <td>0.55</td>\n",
              "      <td>0.43</td>\n",
              "      <td>1.30</td>\n",
              "      <td>4.00</td>\n",
              "      <td>0.60</td>\n",
              "      <td>1.68</td>\n",
              "      <td>830</td>\n",
              "    </tr>\n",
              "    <tr>\n",
              "      <th>71</th>\n",
              "      <td>13.86</td>\n",
              "      <td>1.51</td>\n",
              "      <td>2.67</td>\n",
              "      <td>25.0</td>\n",
              "      <td>86</td>\n",
              "      <td>2.95</td>\n",
              "      <td>2.86</td>\n",
              "      <td>0.21</td>\n",
              "      <td>1.87</td>\n",
              "      <td>3.38</td>\n",
              "      <td>1.36</td>\n",
              "      <td>3.16</td>\n",
              "      <td>410</td>\n",
              "    </tr>\n",
              "  </tbody>\n",
              "</table>\n",
              "</div>"
            ],
            "text/plain": [
              "     Alcohol  Malic.acid   Ash   Acl  ...  Color.int   Hue    OD  Proline\n",
              "22     13.71        1.86  2.36  16.6  ...       3.80  1.11  4.00     1035\n",
              "108    12.22        1.29  1.94  19.0  ...       2.70  0.86  3.02      312\n",
              "175    13.27        4.28  2.26  20.0  ...      10.20  0.59  1.56      835\n",
              "145    13.16        3.57  2.15  21.0  ...       4.00  0.60  1.68      830\n",
              "71     13.86        1.51  2.67  25.0  ...       3.38  1.36  3.16      410\n",
              "\n",
              "[5 rows x 13 columns]"
            ]
          },
          "metadata": {},
          "execution_count": 9
        }
      ]
    },
    {
      "cell_type": "code",
      "metadata": {
        "scrolled": true,
        "id": "icFGC_naz22J",
        "colab": {
          "base_uri": "https://localhost:8080/"
        },
        "outputId": "42981263-0066-4a21-80d4-8258a2bc30e6"
      },
      "source": [
        "from sklearn.feature_selection import mutual_info_classif\n",
        "\n",
        "mutual_info=mutual_info_classif(X_train,y_train)\n",
        "\n",
        "mutual_info"
      ],
      "execution_count": 12,
      "outputs": [
        {
          "output_type": "execute_result",
          "data": {
            "text/plain": [
              "array([0.41102562, 0.29998877, 0.15395675, 0.2709083 , 0.16756953,\n",
              "       0.47058418, 0.71396113, 0.13072321, 0.26518869, 0.63270777,\n",
              "       0.53667119, 0.55404658, 0.54616143])"
            ]
          },
          "metadata": {},
          "execution_count": 12
        }
      ]
    },
    {
      "cell_type": "code",
      "metadata": {
        "id": "hgSrwp1cz22J",
        "colab": {
          "base_uri": "https://localhost:8080/"
        },
        "outputId": "22ae6b6d-de89-4a09-e40a-18479fb4de65"
      },
      "source": [
        "mutual_info=pd.Series(mutual_info)\n",
        "mutual_info.index=X_train.columns\n",
        "mutual_info.sort_values(ascending=False)"
      ],
      "execution_count": 15,
      "outputs": [
        {
          "output_type": "execute_result",
          "data": {
            "text/plain": [
              "Flavanoids              0.713961\n",
              "Color.int               0.632708\n",
              "OD                      0.554047\n",
              "Proline                 0.546161\n",
              "Hue                     0.536671\n",
              "Phenols                 0.470584\n",
              "Alcohol                 0.411026\n",
              "Malic.acid              0.299989\n",
              "Acl                     0.270908\n",
              "Proanth                 0.265189\n",
              "Mg                      0.167570\n",
              "Ash                     0.153957\n",
              "Nonflavanoid.phenols    0.130723\n",
              "dtype: float64"
            ]
          },
          "metadata": {},
          "execution_count": 15
        }
      ]
    },
    {
      "cell_type": "code",
      "metadata": {
        "id": "qWaMNUMpz22K"
      },
      "source": [
        "from sklearn.feature_selection import SelectKBest"
      ],
      "execution_count": 16,
      "outputs": []
    },
    {
      "cell_type": "code",
      "metadata": {
        "id": "9pUuyud6z22L",
        "colab": {
          "base_uri": "https://localhost:8080/"
        },
        "outputId": "673023c2-bd2c-4db0-a88a-f8f2fd32408b"
      },
      "source": [
        "sel_five=SelectKBest(mutual_info_classif,k=5)\n",
        "sel_five.fit(X_train,y_train)\n",
        "X_train.columns[sel_five.get_support()]"
      ],
      "execution_count": 18,
      "outputs": [
        {
          "output_type": "execute_result",
          "data": {
            "text/plain": [
              "Index(['Flavanoids', 'Color.int', 'Hue', 'OD', 'Proline'], dtype='object')"
            ]
          },
          "metadata": {},
          "execution_count": 18
        }
      ]
    },
    {
      "cell_type": "code",
      "metadata": {
        "id": "TfXJBaZhz22L"
      },
      "source": [
        ""
      ],
      "execution_count": null,
      "outputs": []
    },
    {
      "cell_type": "markdown",
      "metadata": {
        "id": "N5EGCXeJz22M"
      },
      "source": [
        "#### Difference Between Information Gain And Mutual Information\n",
        "I(X ; Y) = H(X) – H(X | Y)\n",
        "and\n",
        "IG(S, a) = H(S) – H(S | a)\n",
        "\n",
        "As such, mutual information is sometimes used as a synonym for \n",
        "information gain. Technically, they calculate the same quantity\n",
        "if applied to the same data."
      ]
    },
    {
      "cell_type": "markdown",
      "metadata": {
        "id": "ZD8u3dRRz22M"
      },
      "source": [
        "## Comparion of Univariate And Mutual Information\n",
        "Comparison of F-test and mutual information\n",
        "https://scikit-learn.org/stable/auto_examples/feature_selection/plot_f_test_vs_mi.html#sphx-glr-auto-examples-feature-selection-plot-f-test-vs-mi-py"
      ]
    },
    {
      "cell_type": "code",
      "metadata": {
        "id": "P0ILASHrz22N"
      },
      "source": [
        ""
      ],
      "execution_count": null,
      "outputs": []
    }
  ]
}