{
  "nbformat": 4,
  "nbformat_minor": 0,
  "metadata": {
    "kernelspec": {
      "display_name": "Python 3",
      "language": "python",
      "name": "python3"
    },
    "language_info": {
      "codemirror_mode": {
        "name": "ipython",
        "version": 3
      },
      "file_extension": ".py",
      "mimetype": "text/x-python",
      "name": "python",
      "nbconvert_exporter": "python",
      "pygments_lexer": "ipython3",
      "version": "3.6.9"
    },
    "colab": {
      "name": "2. Hypothesis Testing.ipynb",
      "provenance": [],
      "collapsed_sections": [
        "8KshVGkcMKMu",
        "TB4QAo0iMKM5",
        "FsTcgRYRMKNJ",
        "XFuVeZIYMKNV"
      ]
    }
  },
  "cells": [
    {
      "cell_type": "markdown",
      "metadata": {
        "id": "6Qn7uOOjMKMR"
      },
      "source": [
        "# Hypothesis Testing"
      ]
    },
    {
      "cell_type": "code",
      "metadata": {
        "id": "CEp3VcJnMKMT"
      },
      "source": [
        "import numpy as np\n",
        "import scipy.stats as st"
      ],
      "execution_count": 1,
      "outputs": []
    },
    {
      "cell_type": "code",
      "metadata": {
        "id": "skDKa6OlMllD",
        "colab": {
          "base_uri": "https://localhost:8080/"
        },
        "outputId": "4ff6202e-e0e9-48e5-eae7-225c2074fed4"
      },
      "source": [
        "#left tail use direct value, alpha = 0.1\n",
        "\n",
        "Z_critical=st.norm.ppf(0.10)\n",
        "Z_critical"
      ],
      "execution_count": 3,
      "outputs": [
        {
          "output_type": "execute_result",
          "data": {
            "text/plain": [
              "-1.2815515655446004"
            ]
          },
          "metadata": {},
          "execution_count": 3
        }
      ]
    },
    {
      "cell_type": "code",
      "metadata": {
        "id": "q52-H5L7MxLf",
        "colab": {
          "base_uri": "https://localhost:8080/"
        },
        "outputId": "027ff6cf-f381-4165-acd1-4c412f55110e"
      },
      "source": [
        "#right tail use absolute value\n",
        "Z_critical=abs(st.norm.ppf(0.10))\n",
        "Z_critical"
      ],
      "execution_count": 4,
      "outputs": [
        {
          "output_type": "execute_result",
          "data": {
            "text/plain": [
              "1.2815515655446004"
            ]
          },
          "metadata": {},
          "execution_count": 4
        }
      ]
    },
    {
      "cell_type": "code",
      "metadata": {
        "id": "SLIxWTH5M-GK",
        "colab": {
          "base_uri": "https://localhost:8080/"
        },
        "outputId": "a8dd5127-4b4a-4747-d885-864f3a04beac"
      },
      "source": [
        "#two tail use alpha divided by 2 value\n",
        "Z_critical=abs(st.norm.ppf(0.10/2))\n",
        "Z_critical"
      ],
      "execution_count": 5,
      "outputs": [
        {
          "output_type": "execute_result",
          "data": {
            "text/plain": [
              "1.6448536269514729"
            ]
          },
          "metadata": {},
          "execution_count": 5
        }
      ]
    },
    {
      "cell_type": "code",
      "metadata": {
        "id": "pQJ4oPHHNSfS",
        "colab": {
          "base_uri": "https://localhost:8080/"
        },
        "outputId": "c3436478-5da2-4f40-c9dd-54688741a8de"
      },
      "source": [
        "# right tail use \"1-\" for getting value to the right\n",
        "p_val=(1-st.norm.cdf(2.28))\n",
        "p_val"
      ],
      "execution_count": 6,
      "outputs": [
        {
          "output_type": "execute_result",
          "data": {
            "text/plain": [
              "0.011303844238552796"
            ]
          },
          "metadata": {},
          "execution_count": 6
        }
      ]
    },
    {
      "cell_type": "code",
      "metadata": {
        "id": "5vICNuwwNqnE",
        "colab": {
          "base_uri": "https://localhost:8080/"
        },
        "outputId": "355cf616-8887-4f0a-9dea-79dcbcb70cf1"
      },
      "source": [
        "# two tail \n",
        "# multiply with 2 , if u want to directly compare with alpha\n",
        "p_val=(1-st.norm.cdf(1.89))\n",
        "p_val"
      ],
      "execution_count": 7,
      "outputs": [
        {
          "output_type": "execute_result",
          "data": {
            "text/plain": [
              "0.029378980040409397"
            ]
          },
          "metadata": {},
          "execution_count": 7
        }
      ]
    },
    {
      "cell_type": "markdown",
      "metadata": {
        "id": "yjO1oIkDMKMY"
      },
      "source": [
        "## Section 1 : z-Test"
      ]
    },
    {
      "cell_type": "markdown",
      "metadata": {
        "id": "RkaG1kBeMKMY"
      },
      "source": [
        "## Example 1.1 : Ages of Medical doctors\n",
        "A researcher believes that the mean age of medical doctors in a large hospital system is older than the average age of doctors in the United States, which is 46. Assume the population standard deviation is 4.2 years. A random sample of 30 doctors from the system is selected, and the mean age of the sample is 48.6. Test the claim at α = 0.05."
      ]
    },
    {
      "cell_type": "code",
      "metadata": {
        "id": "-y0O2GBAMKMZ"
      },
      "source": [
        "#H0 : μ = 46, Ha :  μ > 46\n",
        "n = 30\n",
        "xbar = 48.6\n",
        "mu = 46\n",
        "sigma = 4.2 \n",
        "alpha = 0.05"
      ],
      "execution_count": 8,
      "outputs": []
    },
    {
      "cell_type": "code",
      "metadata": {
        "id": "5rmcTPJ2MKMb",
        "colab": {
          "base_uri": "https://localhost:8080/"
        },
        "outputId": "6d0b66ef-515c-4096-d380-a441170e5049"
      },
      "source": [
        "z_critical=abs(st.norm.ppf(alpha))\n",
        "z_critical"
      ],
      "execution_count": 9,
      "outputs": [
        {
          "output_type": "execute_result",
          "data": {
            "text/plain": [
              "1.6448536269514729"
            ]
          },
          "metadata": {},
          "execution_count": 9
        }
      ]
    },
    {
      "cell_type": "code",
      "metadata": {
        "id": "U1t6yDzjMKMe",
        "colab": {
          "base_uri": "https://localhost:8080/"
        },
        "outputId": "4835a9ea-34f7-4bb6-c2f6-e43a9e8585a0"
      },
      "source": [
        "z = (xbar-mu)/(sigma/np.sqrt(n))\n",
        "z"
      ],
      "execution_count": 10,
      "outputs": [
        {
          "output_type": "execute_result",
          "data": {
            "text/plain": [
              "3.3906634512224585"
            ]
          },
          "metadata": {},
          "execution_count": 10
        }
      ]
    },
    {
      "cell_type": "code",
      "metadata": {
        "id": "ksKU8bhKMKMh",
        "colab": {
          "base_uri": "https://localhost:8080/"
        },
        "outputId": "d836be64-660e-4d7d-d04e-9f0166821fca"
      },
      "source": [
        "if (z<z_critical): #Right-tailed test\n",
        "    print(\"Null hypothesis cannot be rejected\")\n",
        "else:\n",
        "    print(\"Reject null hypothesis\")"
      ],
      "execution_count": 11,
      "outputs": [
        {
          "output_type": "stream",
          "name": "stdout",
          "text": [
            "Reject null hypothesis\n"
          ]
        }
      ]
    },
    {
      "cell_type": "markdown",
      "metadata": {
        "id": "1UTgoK5pMKMj"
      },
      "source": [
        "## Section 2 : z-Test using P-value"
      ]
    },
    {
      "cell_type": "markdown",
      "metadata": {
        "id": "UajZEQPkMKMk"
      },
      "source": [
        "## Example 2. 1 : Wind Speed\n",
        "\n",
        "\n",
        "A researcher claims that the average wind speed in a certain city is 8 miles per hour. A sample of 32 days has an average wind speed of 8.2 miles per hour. The standard deviation of the population is 0.6 mile per hour. At α = 0.05, is there enough evidence to reject the claim? Use the P-value method."
      ]
    },
    {
      "cell_type": "code",
      "metadata": {
        "id": "u_ued80hMKMk"
      },
      "source": [
        "#H0 : mu = 8 Ha : mu !=8\n",
        "n = 32\n",
        "xbar = 8.2 \n",
        "mu = 8\n",
        "sigma = 0.6 \n",
        "alpha = 0.05"
      ],
      "execution_count": 12,
      "outputs": []
    },
    {
      "cell_type": "code",
      "metadata": {
        "id": "A4egARlIMKMn",
        "colab": {
          "base_uri": "https://localhost:8080/"
        },
        "outputId": "31a99a5d-b63c-45e0-9fdd-f7f2dd6c2d3c"
      },
      "source": [
        "z = (xbar-mu)/(sigma/np.sqrt(n))\n",
        "z"
      ],
      "execution_count": 13,
      "outputs": [
        {
          "output_type": "execute_result",
          "data": {
            "text/plain": [
              "1.8856180831641203"
            ]
          },
          "metadata": {},
          "execution_count": 13
        }
      ]
    },
    {
      "cell_type": "code",
      "metadata": {
        "id": "kggC401cMKMq",
        "colab": {
          "base_uri": "https://localhost:8080/"
        },
        "outputId": "8d32326d-e36a-4789-a596-d393b6a485a5"
      },
      "source": [
        "p_val=(1-st.norm.cdf(z))*2\n",
        "p_val"
      ],
      "execution_count": 14,
      "outputs": [
        {
          "output_type": "execute_result",
          "data": {
            "text/plain": [
              "0.0593464387919207"
            ]
          },
          "metadata": {},
          "execution_count": 14
        }
      ]
    },
    {
      "cell_type": "code",
      "metadata": {
        "id": "rkI2janqMKMs",
        "colab": {
          "base_uri": "https://localhost:8080/"
        },
        "outputId": "e9401ba2-4956-4d5d-efb8-f65603c42f8b"
      },
      "source": [
        "if (p_val>alpha):\n",
        "    print(\"Null hypothesis cannot be rejected\")\n",
        "else:\n",
        "    print(\"Reject null hypothesis\")"
      ],
      "execution_count": 15,
      "outputs": [
        {
          "output_type": "stream",
          "name": "stdout",
          "text": [
            "Null hypothesis cannot be rejected\n"
          ]
        }
      ]
    },
    {
      "cell_type": "markdown",
      "metadata": {
        "id": "8KshVGkcMKMu"
      },
      "source": [
        "## Section 3 : t-Test"
      ]
    },
    {
      "cell_type": "markdown",
      "metadata": {
        "id": "s3Fj3kI_MKMu"
      },
      "source": [
        "## Example 3.1 : Hospital Infections\n",
        "A medical investigation claims that the average number of infections per week at a ­hospital in southwestern Pennsylvania is 16.3. A random sample of 10 weeks had a mean number of 17.7 infections. The sample standard deviation is 1.8. Is there enough evidence to reject the investigator’s claim at α = 0.05? Assume the variable is normally distributed."
      ]
    },
    {
      "cell_type": "code",
      "metadata": {
        "id": "5NW5OnLAMKMv"
      },
      "source": [
        "#H0 : μ = 16.3  Ha : μ != 16.3\n",
        "n = 10\n",
        "degrees_of_freedom = n-1\n",
        "xbar = 17.7\n",
        "mu = 16.3\n",
        "s = 1.8\n",
        "alpha = 0.05"
      ],
      "execution_count": 16,
      "outputs": []
    },
    {
      "cell_type": "code",
      "metadata": {
        "id": "hgcQYQQCMKMx",
        "colab": {
          "base_uri": "https://localhost:8080/"
        },
        "outputId": "63711e81-32cf-4bce-9a1c-5163a783a7c6"
      },
      "source": [
        "t = (xbar - mu)/(s / np.sqrt(n))\n",
        "t"
      ],
      "execution_count": 17,
      "outputs": [
        {
          "output_type": "execute_result",
          "data": {
            "text/plain": [
              "2.4595492912420704"
            ]
          },
          "metadata": {},
          "execution_count": 17
        }
      ]
    },
    {
      "cell_type": "code",
      "metadata": {
        "id": "bwFQ7BvQMKM0",
        "colab": {
          "base_uri": "https://localhost:8080/"
        },
        "outputId": "cbdba6a0-f22e-4338-ad9f-fdcbcbe38c1c"
      },
      "source": [
        "t_critical = abs(st.t.ppf(alpha/2,degrees_of_freedom))\n",
        "t_critical"
      ],
      "execution_count": 19,
      "outputs": [
        {
          "output_type": "execute_result",
          "data": {
            "text/plain": [
              "2.262157162740992"
            ]
          },
          "metadata": {},
          "execution_count": 19
        }
      ]
    },
    {
      "cell_type": "code",
      "metadata": {
        "id": "kixf1A6PMKM3",
        "colab": {
          "base_uri": "https://localhost:8080/"
        },
        "outputId": "4fe01e0b-df90-4de8-b1eb-f46558f69e2d"
      },
      "source": [
        "if (t>t_critical): \n",
        "    print(\"Null hypothesis cannot be rejected\")\n",
        "else:\n",
        "    print(\"Reject null hypothesis\")"
      ],
      "execution_count": 20,
      "outputs": [
        {
          "output_type": "stream",
          "name": "stdout",
          "text": [
            "Null hypothesis cannot be rejected\n"
          ]
        }
      ]
    },
    {
      "cell_type": "markdown",
      "metadata": {
        "id": "TB4QAo0iMKM5"
      },
      "source": [
        "## Section 4 : t-Test using P-value"
      ]
    },
    {
      "cell_type": "markdown",
      "metadata": {
        "id": "xmziclfSMKM6"
      },
      "source": [
        "## Example 4.1 : Jogger’s Oxygen Uptake\n",
        "A physician claims that joggers’ maximal volume oxygen uptake is greater than the average of all adults. A random sample of 15 joggers has a mean of 40.6 milliliters per kilogram (ml/kg) and a standard deviation of 6 ml/kg. If the average of all adults is 36.7 ml/kg, is there enough evidence to support the physician’s claim at α = 0.05? Assume the variable is normally distributed. "
      ]
    },
    {
      "cell_type": "code",
      "metadata": {
        "id": "Srt2-P9HMKM6"
      },
      "source": [
        "#H0 : μ = 36.7 , Ha : μ > 36.7\n",
        "n = 15\n",
        "degrees_of_freedom = n-1\n",
        "xbar = 40.6\n",
        "mu = 36.7\n",
        "s = 6\n",
        "alpha = 0.05"
      ],
      "execution_count": 21,
      "outputs": []
    },
    {
      "cell_type": "code",
      "metadata": {
        "id": "BaiXyMlCMKM9",
        "colab": {
          "base_uri": "https://localhost:8080/"
        },
        "outputId": "bed52236-5888-44e8-c796-46613af55185"
      },
      "source": [
        "t = (xbar - mu)/(s / np.sqrt(n))\n",
        "t"
      ],
      "execution_count": 22,
      "outputs": [
        {
          "output_type": "execute_result",
          "data": {
            "text/plain": [
              "2.51743917503482"
            ]
          },
          "metadata": {},
          "execution_count": 22
        }
      ]
    },
    {
      "cell_type": "code",
      "metadata": {
        "id": "wSaEA6YlMKNB",
        "colab": {
          "base_uri": "https://localhost:8080/"
        },
        "outputId": "a2fbed76-18a2-4d9c-efe7-69bb25e87d3c"
      },
      "source": [
        "p_val=(1-st.t.cdf(abs(t),degrees_of_freedom))\n",
        "p_val"
      ],
      "execution_count": 23,
      "outputs": [
        {
          "output_type": "execute_result",
          "data": {
            "text/plain": [
              "0.012311189053656801"
            ]
          },
          "metadata": {},
          "execution_count": 23
        }
      ]
    },
    {
      "cell_type": "code",
      "metadata": {
        "id": "lMcXErkoMKNF",
        "colab": {
          "base_uri": "https://localhost:8080/"
        },
        "outputId": "6243c3d4-597a-4b76-9924-64a6f5c7bda3"
      },
      "source": [
        "if (p_val > alpha):\n",
        "    print(\"Null hypothesis cannot be rejected\")\n",
        "else:\n",
        "    print(\"Reject null hypothesis\")"
      ],
      "execution_count": 24,
      "outputs": [
        {
          "output_type": "stream",
          "name": "stdout",
          "text": [
            "Reject null hypothesis\n"
          ]
        }
      ]
    },
    {
      "cell_type": "markdown",
      "metadata": {
        "id": "FsTcgRYRMKNJ"
      },
      "source": [
        "## Section 5 : Chi-Square Test"
      ]
    },
    {
      "cell_type": "markdown",
      "metadata": {
        "id": "C_9Vqe3PMKNK"
      },
      "source": [
        "## Example 5.1 : IQ Test\n",
        "A psychologist wishes to see if the variance in IQ of 10 of her counseling patients is less than the variance of the population, which is 225. The variance of the IQs of her 10 patients was 206. Test her claim at α = 0.05."
      ]
    },
    {
      "cell_type": "code",
      "metadata": {
        "id": "ASaKHuU9MKNL"
      },
      "source": [
        "#H0 : σ2 = 225 Ha : σ2 < 225\n",
        "n = 10\n",
        "degrees_of_freedom = n-1\n",
        "s_square = 206\n",
        "sigma_square = 225 \n",
        "alpha =  0.05"
      ],
      "execution_count": 25,
      "outputs": []
    },
    {
      "cell_type": "code",
      "metadata": {
        "id": "X771MGbEMKNP",
        "colab": {
          "base_uri": "https://localhost:8080/"
        },
        "outputId": "4b79b907-c90f-466f-db74-799bc0e704a8"
      },
      "source": [
        "chi_square=((n-1)*s_square)/sigma_square\n",
        "chi_square"
      ],
      "execution_count": 26,
      "outputs": [
        {
          "output_type": "execute_result",
          "data": {
            "text/plain": [
              "8.24"
            ]
          },
          "metadata": {},
          "execution_count": 26
        }
      ]
    },
    {
      "cell_type": "code",
      "metadata": {
        "id": "krqtJhlaMKNS",
        "colab": {
          "base_uri": "https://localhost:8080/"
        },
        "outputId": "9eba0e23-b791-4851-ca49-744900380977"
      },
      "source": [
        "chi_square_critical=st.chi2.ppf(alpha,degrees_of_freedom)\n",
        "chi_square_critical"
      ],
      "execution_count": 27,
      "outputs": [
        {
          "output_type": "execute_result",
          "data": {
            "text/plain": [
              "3.325112843066815"
            ]
          },
          "metadata": {},
          "execution_count": 27
        }
      ]
    },
    {
      "cell_type": "code",
      "metadata": {
        "id": "G080jPb5MKNU",
        "colab": {
          "base_uri": "https://localhost:8080/"
        },
        "outputId": "626178c0-1067-4989-f190-10f8c60e2d77"
      },
      "source": [
        "if (chi_square > chi_square_critical):\n",
        "    print(\"Null hypothesis cannot be rejected\")\n",
        "else:\n",
        "    print(\"Reject null hypothesis\")"
      ],
      "execution_count": 28,
      "outputs": [
        {
          "output_type": "stream",
          "name": "stdout",
          "text": [
            "Null hypothesis cannot be rejected\n"
          ]
        }
      ]
    },
    {
      "cell_type": "markdown",
      "metadata": {
        "id": "XFuVeZIYMKNV"
      },
      "source": [
        "## Section 6 : Chi-Square Test using P-Value"
      ]
    },
    {
      "cell_type": "markdown",
      "metadata": {
        "id": "ixPzRPJiMKNW"
      },
      "source": [
        "## Example 6.1 : Car Inspection Times\n",
        "A researcher knows from past studies that the standard deviation of the time it takes to inspect a car is 16.8 minutes. A random sample of 24 cars is selected and inspected. The standard deviation is 12.5 minutes. At α = 0.05, can it be concluded that the standard deviation has changed? Use the P-value method. Assume the variable is normally distributed. "
      ]
    },
    {
      "cell_type": "code",
      "metadata": {
        "id": "d1HznzAPMKNW"
      },
      "source": [
        "#H0 : σ = 16.8  Ha : σ != 16.8\n",
        "n = 24\n",
        "degrees_of_freedom = n-1\n",
        "s = 12.5\n",
        "sigma = 16.8\n",
        "alpha = 0.05"
      ],
      "execution_count": 29,
      "outputs": []
    },
    {
      "cell_type": "code",
      "metadata": {
        "id": "fNfwFw2QMKNZ",
        "colab": {
          "base_uri": "https://localhost:8080/"
        },
        "outputId": "6e03937b-8c5b-4339-8c0f-fdb22469841a"
      },
      "source": [
        "chi_square =((n-1)*(s**2))/sigma**2\n",
        "chi_square"
      ],
      "execution_count": 30,
      "outputs": [
        {
          "output_type": "execute_result",
          "data": {
            "text/plain": [
              "12.73295776643991"
            ]
          },
          "metadata": {},
          "execution_count": 30
        }
      ]
    },
    {
      "cell_type": "code",
      "metadata": {
        "id": "8xi_hfVJMKNc",
        "colab": {
          "base_uri": "https://localhost:8080/"
        },
        "outputId": "3246d9ce-fe22-4ee8-ab99-1216883ab0c9"
      },
      "source": [
        "p_val=st.chi2.cdf(chi_square,degrees_of_freedom)*2\n",
        "p_val"
      ],
      "execution_count": 31,
      "outputs": [
        {
          "output_type": "execute_result",
          "data": {
            "text/plain": [
              "0.08491046742416483"
            ]
          },
          "metadata": {},
          "execution_count": 31
        }
      ]
    },
    {
      "cell_type": "code",
      "metadata": {
        "id": "y-Ri_1GVMKNe",
        "colab": {
          "base_uri": "https://localhost:8080/"
        },
        "outputId": "693e9ac0-aa98-49a6-8c06-ba734c61a8bc"
      },
      "source": [
        "if (p_val > alpha):\n",
        "    print(\"Null hypothesis cannot be rejected\")\n",
        "else:\n",
        "    print(\"Reject null hypothesis\")"
      ],
      "execution_count": 32,
      "outputs": [
        {
          "output_type": "stream",
          "name": "stdout",
          "text": [
            "Null hypothesis cannot be rejected\n"
          ]
        }
      ]
    },
    {
      "cell_type": "code",
      "metadata": {
        "id": "8EBJCLOxMKNg"
      },
      "source": [
        ""
      ],
      "execution_count": null,
      "outputs": []
    }
  ]
}